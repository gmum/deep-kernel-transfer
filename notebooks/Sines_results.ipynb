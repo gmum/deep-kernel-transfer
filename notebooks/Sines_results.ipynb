{
 "cells": [
  {
   "cell_type": "code",
   "execution_count": 3,
   "metadata": {},
   "outputs": [],
   "source": [
    "import numpy as np\n",
    "import pandas as pd\n",
    "import matplotlib.pyplot as plt\n",
    "import os"
   ]
  },
  {
   "cell_type": "code",
   "execution_count": 8,
   "metadata": {},
   "outputs": [],
   "source": [
    "prefix='/home/anowak/projects/deep-kernel-transfer/save/sines1d/{}/checkpoints/sines/MLP2_DKT_test_results.npy'"
   ]
  },
  {
   "cell_type": "code",
   "execution_count": 9,
   "metadata": {},
   "outputs": [],
   "source": [
    "kernel='nn'"
   ]
  },
  {
   "cell_type": "code",
   "execution_count": 10,
   "metadata": {},
   "outputs": [],
   "source": [
    "data = np.load(prefix.format(kernel), allow_pickle=True).item()"
   ]
  },
  {
   "cell_type": "code",
   "execution_count": 12,
   "metadata": {},
   "outputs": [
    {
     "data": {
      "text/plain": [
       "dict_keys(['mse_list', 'nll_list', 'mean', 'lower', 'upper', 'x', 'y', 'mse', 'mse_std', 'nll', 'nll_std'])"
      ]
     },
     "execution_count": 12,
     "metadata": {},
     "output_type": "execute_result"
    }
   ],
   "source": [
    "data.keys()"
   ]
  },
  {
   "cell_type": "code",
   "execution_count": 13,
   "metadata": {},
   "outputs": [
    {
     "data": {
      "text/plain": [
       "[0.02400265]"
      ]
     },
     "execution_count": 13,
     "metadata": {},
     "output_type": "execute_result"
    }
   ],
   "source": [
    "data[\"mse\"]"
   ]
  },
  {
   "cell_type": "code",
   "execution_count": 14,
   "metadata": {},
   "outputs": [
    {
     "data": {
      "text/plain": [
       "[0.015421757]"
      ]
     },
     "execution_count": 14,
     "metadata": {},
     "output_type": "execute_result"
    }
   ],
   "source": [
    "data[\"mse_std\"]"
   ]
  },
  {
   "cell_type": "code",
   "execution_count": 34,
   "metadata": {},
   "outputs": [],
   "source": [
    "kernels = [\"rbf\",\"spectral\",\"nn\",\"flow_rbf\",\"flow_spectral\",\"flow_nn\"]"
   ]
  },
  {
   "cell_type": "code",
   "execution_count": 35,
   "metadata": {},
   "outputs": [],
   "source": [
    "def get_table(prefix, kernels):\n",
    "    results = {\"method\":[], \"mse\":[], \"nll\":[]}\n",
    "    for k in kernels:\n",
    "        try:\n",
    "            data = np.load(prefix.format(k), allow_pickle=True).item()\n",
    "            results[\"method\"].append(k)\n",
    "            results[\"mse\"].append(\"{:.2f} \\pm {:.2f}\".format(np.round(data[\"mse\"][0],2),np.round(data[\"mse_std\"][0],2)))\n",
    "            results[\"nll\"].append(\"{:.2f} \\pm {:.2f}\".format(np.round(data[\"nll\"][0],2),np.round(data[\"nll_std\"][0],2)))\n",
    "        except IOError:\n",
    "            results[\"method\"].append(k)\n",
    "            results[\"mse\"].append(np.nan)\n",
    "            results[\"nll\"].append(np.nan)\n",
    "    \n",
    "    return pd.DataFrame.from_dict(results)"
   ]
  },
  {
   "cell_type": "code",
   "execution_count": 45,
   "metadata": {},
   "outputs": [],
   "source": [
    "tab = get_table(prefix,kernels)"
   ]
  },
  {
   "cell_type": "code",
   "execution_count": 37,
   "metadata": {},
   "outputs": [],
   "source": [
    "data1 = np.load(prefix.format(\"spectral\"), allow_pickle=True).item()"
   ]
  },
  {
   "cell_type": "code",
   "execution_count": 38,
   "metadata": {},
   "outputs": [],
   "source": [
    "data2 = np.load(prefix.format(\"flow_spectral\"), allow_pickle=True).item()"
   ]
  },
  {
   "cell_type": "code",
   "execution_count": 40,
   "metadata": {},
   "outputs": [
    {
     "data": {
      "text/plain": [
       "dict_keys(['mse_list', 'nll_list', 'mean', 'lower', 'upper', 'x', 'y', 'mse', 'mse_std', 'nll', 'nll_std'])"
      ]
     },
     "execution_count": 40,
     "metadata": {},
     "output_type": "execute_result"
    }
   ],
   "source": [
    "data1.keys()"
   ]
  },
  {
   "cell_type": "code",
   "execution_count": 43,
   "metadata": {},
   "outputs": [
    {
     "data": {
      "text/plain": [
       "0.018801266"
      ]
     },
     "execution_count": 43,
     "metadata": {},
     "output_type": "execute_result"
    }
   ],
   "source": [
    "np.mean(data1[\"mse_list\"])"
   ]
  },
  {
   "cell_type": "code",
   "execution_count": 44,
   "metadata": {},
   "outputs": [
    {
     "data": {
      "text/plain": [
       "0.018479077"
      ]
     },
     "execution_count": 44,
     "metadata": {},
     "output_type": "execute_result"
    }
   ],
   "source": [
    "np.mean(data2[\"mse_list\"])"
   ]
  },
  {
   "cell_type": "code",
   "execution_count": 46,
   "metadata": {},
   "outputs": [
    {
     "data": {
      "text/html": [
       "<div>\n",
       "<style scoped>\n",
       "    .dataframe tbody tr th:only-of-type {\n",
       "        vertical-align: middle;\n",
       "    }\n",
       "\n",
       "    .dataframe tbody tr th {\n",
       "        vertical-align: top;\n",
       "    }\n",
       "\n",
       "    .dataframe thead th {\n",
       "        text-align: right;\n",
       "    }\n",
       "</style>\n",
       "<table border=\"1\" class=\"dataframe\">\n",
       "  <thead>\n",
       "    <tr style=\"text-align: right;\">\n",
       "      <th></th>\n",
       "      <th>method</th>\n",
       "      <th>mse</th>\n",
       "      <th>nll</th>\n",
       "    </tr>\n",
       "  </thead>\n",
       "  <tbody>\n",
       "    <tr>\n",
       "      <th>0</th>\n",
       "      <td>rbf</td>\n",
       "      <td>1.36 \\pm 1.64</td>\n",
       "      <td>-0.76 \\pm 0.06</td>\n",
       "    </tr>\n",
       "    <tr>\n",
       "      <th>1</th>\n",
       "      <td>spectral</td>\n",
       "      <td>0.02 \\pm 0.01</td>\n",
       "      <td>-0.83 \\pm 0.05</td>\n",
       "    </tr>\n",
       "    <tr>\n",
       "      <th>2</th>\n",
       "      <td>nn</td>\n",
       "      <td>0.02 \\pm 0.02</td>\n",
       "      <td>-0.73 \\pm 0.11</td>\n",
       "    </tr>\n",
       "    <tr>\n",
       "      <th>3</th>\n",
       "      <td>flow_rbf</td>\n",
       "      <td>NaN</td>\n",
       "      <td>NaN</td>\n",
       "    </tr>\n",
       "    <tr>\n",
       "      <th>4</th>\n",
       "      <td>flow_spectral</td>\n",
       "      <td>0.02 \\pm 0.01</td>\n",
       "      <td>-0.83 \\pm 0.05</td>\n",
       "    </tr>\n",
       "    <tr>\n",
       "      <th>5</th>\n",
       "      <td>flow_nn</td>\n",
       "      <td>0.04 \\pm 0.03</td>\n",
       "      <td>-0.73 \\pm 0.10</td>\n",
       "    </tr>\n",
       "  </tbody>\n",
       "</table>\n",
       "</div>"
      ],
      "text/plain": [
       "          method            mse             nll\n",
       "0            rbf  1.36 \\pm 1.64  -0.76 \\pm 0.06\n",
       "1       spectral  0.02 \\pm 0.01  -0.83 \\pm 0.05\n",
       "2             nn  0.02 \\pm 0.02  -0.73 \\pm 0.11\n",
       "3       flow_rbf            NaN             NaN\n",
       "4  flow_spectral  0.02 \\pm 0.01  -0.83 \\pm 0.05\n",
       "5        flow_nn  0.04 \\pm 0.03  -0.73 \\pm 0.10"
      ]
     },
     "execution_count": 46,
     "metadata": {},
     "output_type": "execute_result"
    }
   ],
   "source": [
    "tab"
   ]
  },
  {
   "cell_type": "code",
   "execution_count": 48,
   "metadata": {},
   "outputs": [
    {
     "name": "stdout",
     "output_type": "stream",
     "text": [
      "\\begin{tabular}{llll}\n",
      "\\toprule\n",
      "{} &         method &            mse &             nll \\\\\n",
      "\\midrule\n",
      "0 &            rbf &  1.36 \\pm 1.64 &  -0.76 \\pm 0.06 \\\\\n",
      "1 &       spectral &  0.02 \\pm 0.01 &  -0.83 \\pm 0.05 \\\\\n",
      "2 &             nn &  0.02 \\pm 0.02 &  -0.73 \\pm 0.11 \\\\\n",
      "3 &       flow_rbf &            NaN &             NaN \\\\\n",
      "4 &  flow_spectral &  0.02 \\pm 0.01 &  -0.83 \\pm 0.05 \\\\\n",
      "5 &        flow_nn &  0.04 \\pm 0.03 &  -0.73 \\pm 0.10 \\\\\n",
      "\\bottomrule\n",
      "\\end{tabular}\n",
      "\n"
     ]
    }
   ],
   "source": [
    "print(tab.to_latex(escape=False))"
   ]
  },
  {
   "cell_type": "code",
   "execution_count": null,
   "metadata": {},
   "outputs": [],
   "source": []
  }
 ],
 "metadata": {
  "kernelspec": {
   "display_name": "Python 3",
   "language": "python",
   "name": "python3"
  },
  "language_info": {
   "codemirror_mode": {
    "name": "ipython",
    "version": 3
   },
   "file_extension": ".py",
   "mimetype": "text/x-python",
   "name": "python",
   "nbconvert_exporter": "python",
   "pygments_lexer": "ipython3",
   "version": "3.8.5"
  }
 },
 "nbformat": 4,
 "nbformat_minor": 4
}
